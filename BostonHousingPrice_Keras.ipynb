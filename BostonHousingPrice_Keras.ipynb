{
  "nbformat": 4,
  "nbformat_minor": 0,
  "metadata": {
    "colab": {
      "name": "BostonHousingPrice_Keras.ipynb",
      "provenance": [],
      "collapsed_sections": [],
      "include_colab_link": true
    },
    "kernelspec": {
      "name": "python3",
      "display_name": "Python 3"
    }
  },
  "cells": [
    {
      "cell_type": "markdown",
      "metadata": {
        "id": "view-in-github",
        "colab_type": "text"
      },
      "source": [
        "<a href=\"https://colab.research.google.com/github/juanalverto/BostonHousingPrice_Keras/blob/main/BostonHousingPrice_Keras.ipynb\" target=\"_parent\"><img src=\"https://colab.research.google.com/assets/colab-badge.svg\" alt=\"Open In Colab\"/></a>"
      ]
    },
    {
      "cell_type": "markdown",
      "metadata": {
        "id": "z_Xc2Z6bUv0a"
      },
      "source": [
        "# **The Boston Housing Price dataset**"
      ]
    },
    {
      "cell_type": "markdown",
      "metadata": {
        "id": "rVV7Rl_kVIG5"
      },
      "source": [
        "Con esta base de datos, nuestro objetivo será el de predecir el precio promedio de casas de un suburbio de Boston de mediados de los 70's, de acuerdo a características tales como la tasa de crímines, impuestos, concentración de óxido nítrico, etcétera.<br>\n",
        "**Un problema de predicción consiste en obtener valores en una escala continua.**<br> Para entender este concepto, imaginemos que nos piden que cada uno de nosotros dé su predicción acerca de la temperatura actual. Algún compañero podría decir: 25°C, alguien más podría estimar que la temperatura es de 19.5°, otro hará una estimación de 22°C, etc. El punto es que las predicciones pueden tener cualquier valor, no nos estamos limitando a un rango o valor particular, puede ser un valor entero o un valor con decimales. Este comportamiento representa una caso de predicción de valores en una escala continua.<br>\n",
        " En el caso del problema del Boston Housing Price dataset, sólo se va a predecir un valor por cada casa, en este caso, el precio de cada casa en cuestión. En machine learning, la tarea de predecir valores en una escala continua se conoce como **regresión**.<br>\n",
        "La base de datos Boston Housing Price se compone únicamente de 506 instancias, de las cuales, 404 corresponden al conjunto de entrenamiento y 102 al conjunto de prueba. Otra propiedad peculiar de esta base de datos, consiste en que los atributos de los datos de entrada están definidos en diferentes escalas. Por ejemplo, algunas características tienes valores entre 0 y 1, otras entre 1 y 12, otras entre 0 y 100, etcétera.<br>\n",
        "Keras tiene precargada esta base de datos:\n"
      ]
    },
    {
      "cell_type": "code",
      "metadata": {
        "id": "n9klnDG4UvMN"
      },
      "source": [
        "from keras.datasets import boston_housing\n",
        "\n",
        "(train_data, train_targets), (test_data, test_targets) =  boston_housing.load_data()"
      ],
      "execution_count": null,
      "outputs": []
    },
    {
      "cell_type": "code",
      "metadata": {
        "id": "oXpdXwL9XIzI",
        "outputId": "b0f58340-ef94-471d-9a71-0f92bfce0108",
        "colab": {
          "base_uri": "https://localhost:8080/",
          "height": 34
        }
      },
      "source": [
        "train_data.shape"
      ],
      "execution_count": null,
      "outputs": [
        {
          "output_type": "execute_result",
          "data": {
            "text/plain": [
              "(404, 13)"
            ]
          },
          "metadata": {
            "tags": []
          },
          "execution_count": 33
        }
      ]
    },
    {
      "cell_type": "code",
      "metadata": {
        "id": "MN3EkvRzXMBd",
        "outputId": "50bc6294-2d3d-4786-87ed-e35474b18375",
        "colab": {
          "base_uri": "https://localhost:8080/",
          "height": 34
        }
      },
      "source": [
        "test_data.shape"
      ],
      "execution_count": null,
      "outputs": [
        {
          "output_type": "execute_result",
          "data": {
            "text/plain": [
              "(102, 13)"
            ]
          },
          "metadata": {
            "tags": []
          },
          "execution_count": 34
        }
      ]
    },
    {
      "cell_type": "markdown",
      "metadata": {
        "id": "ztQgRafgXzal"
      },
      "source": [
        "Las 13 características o atributos de los datos de entrada, se enlistan a continuación: <br>\n",
        "\n",
        "1. Per capita crime rate.\n",
        "2. Proportion of residential land zoned for lots over 25,000 square feet.\n",
        "3. Proportion of non-retail business acres per town.\n",
        "4. Charles River dummy variable (= 1 if tract bounds river; 0 otherwise).\n",
        "5. Nitric oxides concentration (parts per 10 million).\n",
        "6. Average number of rooms per dwelling.\n",
        "7. Proportion of owner-occupied units built prior to 1940.\n",
        "8. Weighted distances to five Boston employment centres.\n",
        "9. Index of accessibility to radial highways.\n",
        "10. Full-value property-tax rate per $10,000.\n",
        "11. Pupil-teacher ratio by town.\n",
        "12. 1000 * (Bk - 0.63) ** 2 where Bk is the proportion of Black people by town.\n",
        "13. % lower status of the population."
      ]
    },
    {
      "cell_type": "code",
      "metadata": {
        "id": "krNix7Kt5VC1",
        "outputId": "af5b4831-f947-4b9d-d28a-664e058a24c2",
        "colab": {
          "base_uri": "https://localhost:8080/",
          "height": 68
        }
      },
      "source": [
        "train_data[9] #Atributos de la casa con el índice 9 del conjunto de entrenamiento"
      ],
      "execution_count": null,
      "outputs": [
        {
          "output_type": "execute_result",
          "data": {
            "text/plain": [
              "array([  1.62864,   0.     ,  21.89   ,   0.     ,   0.624  ,   5.019  ,\n",
              "       100.     ,   1.4394 ,   4.     , 437.     ,  21.2    , 396.9    ,\n",
              "        34.41   ])"
            ]
          },
          "metadata": {
            "tags": []
          },
          "execution_count": 35
        }
      ]
    },
    {
      "cell_type": "code",
      "metadata": {
        "id": "cZYd84DJ5fYb",
        "outputId": "374678a9-84cc-4597-95ac-b3942138c59f",
        "colab": {
          "base_uri": "https://localhost:8080/",
          "height": 34
        }
      },
      "source": [
        "len(train_data[9]) #Número de atributos de la casa con el índice 9 del conjunto de entrenamiento"
      ],
      "execution_count": null,
      "outputs": [
        {
          "output_type": "execute_result",
          "data": {
            "text/plain": [
              "13"
            ]
          },
          "metadata": {
            "tags": []
          },
          "execution_count": 36
        }
      ]
    },
    {
      "cell_type": "markdown",
      "metadata": {
        "id": "qpmJW_67YloO"
      },
      "source": [
        "Las etiquetas de la base de datos, consisten en precios promedios de casas, fijadas en miles de dólares."
      ]
    },
    {
      "cell_type": "code",
      "metadata": {
        "id": "3IvKUZITYd9X",
        "outputId": "c7cea628-b29a-4e56-8f6c-6e10c921737f",
        "colab": {
          "base_uri": "https://localhost:8080/",
          "height": 34
        }
      },
      "source": [
        "train_targets[9] #Precio (en miles de dólares) de la casa con el índice 9 del conjunto de entrenamiento"
      ],
      "execution_count": null,
      "outputs": [
        {
          "output_type": "execute_result",
          "data": {
            "text/plain": [
              "14.4"
            ]
          },
          "metadata": {
            "tags": []
          },
          "execution_count": 37
        }
      ]
    },
    {
      "cell_type": "markdown",
      "metadata": {
        "id": "jrywAIzcY1Ps"
      },
      "source": [
        "# **Preprocesamiento de los datos**"
      ]
    },
    {
      "cell_type": "markdown",
      "metadata": {
        "id": "7uEXEt8yY3xt"
      },
      "source": [
        "Debido a que los atributos de los datos están expresados en distintas escalas, es conveniente estandarizar estos valores para facilitarle a la red neuronal el proceso de ajuste de los pesos. Para lograrlo, la estandarización se llevará a cabo por atributo, de tal forma que a cada columna de la matriz de entrada, se le restará su promedio y luego se le divirá entre la desviación estándar, generando así atributos centrados en cero y con desviación estándar de 1. "
      ]
    },
    {
      "cell_type": "code",
      "metadata": {
        "id": "W7q1DagrQAIl"
      },
      "source": [
        "#sklearn, formalmente conocida como Scikit-learn, es una librería de Python enfocada en machine learning.\n",
        "#La clase StandardScaler hace que los atributos estén centrados en cero y que tengan una desviación estándar de 1.\n",
        "from sklearn.preprocessing import StandardScaler \n",
        "#Instanciamos un objeto de la clase StandardScaler.\n",
        "stdsc = StandardScaler() \n",
        "#Obtenemos los parámetros para la estandarización con base al conjunto de entrenamiento y luego, procedemos a estandarizar dicho conjunto con los\n",
        "#parámetros generados.\n",
        "train_data_std =  stdsc.fit_transform(train_data) #El método fit_transform se aplica solamente al conjunto de entrenamiento\n",
        "#Estandarizamos el conjunto de prueba con los parámetros que se obtuvieron a partir del conjunto de entrenamiento.\n",
        "test_data_std = stdsc.transform(test_data)"
      ],
      "execution_count": null,
      "outputs": []
    },
    {
      "cell_type": "code",
      "metadata": {
        "id": "oFUhAM02Stjb",
        "outputId": "7b2e1f28-cc1e-4330-fbe7-30ca3d9e6458",
        "colab": {
          "base_uri": "https://localhost:8080/",
          "height": 238
        }
      },
      "source": [
        "train_data_std"
      ],
      "execution_count": null,
      "outputs": [
        {
          "output_type": "execute_result",
          "data": {
            "text/plain": [
              "array([[-0.27224633, -0.48361547, -0.43576161, ...,  1.14850044,\n",
              "         0.44807713,  0.8252202 ],\n",
              "       [-0.40342651,  2.99178419, -1.33391162, ..., -1.71818909,\n",
              "         0.43190599, -1.32920239],\n",
              "       [ 0.1249402 , -0.48361547,  1.0283258 , ...,  0.78447637,\n",
              "         0.22061726, -1.30850006],\n",
              "       ...,\n",
              "       [-0.40202987,  0.99079651, -0.7415148 , ..., -0.71712291,\n",
              "         0.07943894, -0.67776904],\n",
              "       [-0.17292018, -0.48361547,  1.24588095, ..., -1.71818909,\n",
              "        -0.98764362,  0.42083466],\n",
              "       [-0.40422614,  2.04394792, -1.20161456, ..., -1.30866202,\n",
              "         0.23317118, -1.15392266]])"
            ]
          },
          "metadata": {
            "tags": []
          },
          "execution_count": 39
        }
      ]
    },
    {
      "cell_type": "code",
      "metadata": {
        "id": "k8tQIu8lSw-v",
        "outputId": "13fc89a0-fabe-4cee-f5d1-eed3facfa423",
        "colab": {
          "base_uri": "https://localhost:8080/",
          "height": 238
        }
      },
      "source": [
        "test_data_std"
      ],
      "execution_count": null,
      "outputs": [
        {
          "output_type": "execute_result",
          "data": {
            "text/plain": [
              "array([[ 1.55369355, -0.48361547,  1.0283258 , ...,  0.78447637,\n",
              "        -3.48459553,  2.25092074],\n",
              "       [-0.39242675, -0.48361547, -0.16087773, ..., -0.30759583,\n",
              "         0.42733126,  0.47880119],\n",
              "       [-0.39982927, -0.48361547, -0.86940196, ...,  0.78447637,\n",
              "         0.44807713, -0.41415936],\n",
              "       ...,\n",
              "       [-0.20709507, -0.48361547,  1.24588095, ..., -1.71818909,\n",
              "         0.37051949, -1.49344089],\n",
              "       [-0.36698601, -0.48361547, -0.72093526, ..., -0.48960787,\n",
              "         0.39275481, -0.41829982],\n",
              "       [-0.0889679 , -0.48361547,  1.24588095, ..., -1.71818909,\n",
              "        -1.21946544, -0.40449827]])"
            ]
          },
          "metadata": {
            "tags": []
          },
          "execution_count": 40
        }
      ]
    },
    {
      "cell_type": "markdown",
      "metadata": {
        "id": "UaX0jnbE7sD3"
      },
      "source": [
        "# **Construcción de la red neuronal**"
      ]
    },
    {
      "cell_type": "code",
      "metadata": {
        "id": "sbTOOq447uvE"
      },
      "source": [
        "from keras import models\n",
        "from keras import layers\n",
        "\n",
        "#Para este problema, definiremos el modelo dentro de una función, ya que, como veremos más adelante,\n",
        "#estaremos utilizando el mismo modelo en múltiples ocasiones.\n",
        "def build_model():\n",
        "    model = models.Sequential()\n",
        "    model.add(layers.Dense(64, activation='relu',\n",
        "                           input_shape=(train_data.shape[1],)))\n",
        "    model.add(layers.Dense(64, activation='relu'))\n",
        "    model.add(layers.Dense(1))\n",
        "    model.compile(optimizer='rmsprop', loss='mse', metrics=['mae']) #MSE = Mean Square Error / MAE = Mean Absolute Error\n",
        "    return model"
      ],
      "execution_count": null,
      "outputs": []
    },
    {
      "cell_type": "markdown",
      "metadata": {
        "id": "8oqglHFK8a9y"
      },
      "source": [
        "# **Aplicando validación cruzada**"
      ]
    },
    {
      "cell_type": "markdown",
      "metadata": {
        "id": "eMzniqhO8nIs"
      },
      "source": [
        "A diferencia de la manera en la que implementamos la fase de validación en el problema referente a la base de datos IMDB, en esta ocasión, debido a que la base de datos Boston Housing Price se compone de pocas instancias, emplearemos el enfoque de validación cruzada."
      ]
    },
    {
      "cell_type": "code",
      "metadata": {
        "id": "d1F9jQ71884E",
        "outputId": "734c4ba0-f376-4b1a-dafe-796f4f66c76e",
        "colab": {
          "base_uri": "https://localhost:8080/",
          "height": 85
        }
      },
      "source": [
        "import numpy as np\n",
        "\n",
        "k = 4 # En total, el conjunto de entrenamiento se dividirá en 4 lotes o folds, y por lo tanto, se habrán de generar 4 modelos.\n",
        "num_val_samples = len(train_data_std) // k # Definimos el número de instancias que constituirán cada fold\n",
        "num_epochs = 100 # El entrenamiento se realizará durante 100 épocas para cada modelo\n",
        "all_scores = [] # La lista all_scores almacenará el valor del mae de cada unos de los cuatro modelos\n",
        "for i in range(k):\n",
        "    print('Procesamiento de fold #', i)\n",
        "    #i = 0\n",
        "    # Para cada fold:\n",
        "    # Generamos su conjunto de validación a partir del conjunto de entrenamiento original\n",
        "    val_data = train_data_std[i * num_val_samples: (i + 1) * num_val_samples]\n",
        "    # val_data = train_data_std[0 * 101: (0 + 1) * 101]\n",
        "    # val_data = train_data_std[0 : 1 *101] \n",
        "    # val_data = train_data_std[0: 101] \n",
        "    val_targets = train_targets[i * num_val_samples: (i + 1) * num_val_samples]\n",
        "    # val_targets = train_targets[0: 101]\n",
        "\n",
        "    # Generamos su conjunto de entrenamiento a partir del conjunto de entrenamiento original\n",
        "    partial_train_data = np.concatenate(\n",
        "        [train_data_std[:i * num_val_samples], # = [train_data_std[:0 * 101] = [train_data_std[:0]\n",
        "         train_data_std[(i + 1) * num_val_samples:]], # = train_data_std[(0 + 1) * 101:] = train_data_std[1 * 101:] = train_data_std[101:]\n",
        "        axis=0)                                                         #np.concatenate([train_data_std[:0], train_data_std[101:])                                                      #train_data_std[303:]\n",
        "    partial_train_targets = np.concatenate(\n",
        "        [train_targets[:i * num_val_samples],\n",
        "         train_targets[(i + 1) * num_val_samples:]], #np.concatenate([train_data_std[:0], train_data_std[101:])\n",
        "        axis=0)\n",
        "    #-----------------------------------------------------------------------------------\n",
        "\n",
        "    #Mandamos llamar al modelo que previamente compilamos\n",
        "    model = build_model()\n",
        "    # Entrenamos el modelo (el argumento verbose=0, indica que el entrenamiento se realizará en modo silencioso)\n",
        "    model.fit(partial_train_data, partial_train_targets,\n",
        "              epochs=num_epochs, batch_size=1, verbose=0)\n",
        "    # Procedemos a evaluar el desempeño del modelo en el conjunto de validación\n",
        "    val_mse, val_mae = model.evaluate(val_data, val_targets, verbose=0)\n",
        "    # Debido a que la evaluación se realizará en k-folds, utilizamos la lista all_scores para\n",
        "    # almacenar el resultado de la evaluación de cada fold.\n",
        "    all_scores.append(val_mae)"
      ],
      "execution_count": null,
      "outputs": [
        {
          "output_type": "stream",
          "text": [
            "Procesamiento de fold # 0\n",
            "Procesamiento de fold # 1\n",
            "Procesamiento de fold # 2\n",
            "Procesamiento de fold # 3\n"
          ],
          "name": "stdout"
        }
      ]
    },
    {
      "cell_type": "code",
      "metadata": {
        "id": "u8148qSAIwP1",
        "outputId": "4f9195c6-441f-466c-e9f0-097f9c831c27",
        "colab": {
          "base_uri": "https://localhost:8080/",
          "height": 34
        }
      },
      "source": [
        "all_scores # Desplegamos el valor del mae de cada fold"
      ],
      "execution_count": null,
      "outputs": [
        {
          "output_type": "execute_result",
          "data": {
            "text/plain": [
              "[2.1329965591430664, 2.2713451385498047, 2.708892822265625, 2.208346366882324]"
            ]
          },
          "metadata": {
            "tags": []
          },
          "execution_count": 43
        }
      ]
    },
    {
      "cell_type": "markdown",
      "metadata": {
        "id": "CT5YJWkDJLe4"
      },
      "source": [
        "Observemos que existe cierta discrepancia en los resultados de validación anteriores, y para solventar esta situación, lo más apropiado es obtener un promedio de estos resultados."
      ]
    },
    {
      "cell_type": "code",
      "metadata": {
        "id": "iHyArNsRI1XR",
        "outputId": "ca0df116-6610-43da-c616-4d36d3377024",
        "colab": {
          "base_uri": "https://localhost:8080/",
          "height": 34
        }
      },
      "source": [
        "np.mean(all_scores) # Obtenemos el promedio del mae, que es el resultado que nos interesa"
      ],
      "execution_count": null,
      "outputs": [
        {
          "output_type": "execute_result",
          "data": {
            "text/plain": [
              "2.330395221710205"
            ]
          },
          "metadata": {
            "tags": []
          },
          "execution_count": 44
        }
      ]
    },
    {
      "cell_type": "markdown",
      "metadata": {
        "id": "FFE-r34iJwKS"
      },
      "source": [
        "Ahora, procederemos a entrenar el modelo durante 500 épocas. Además, daremos seguimiento al desempeño de cada modelo en las 500 épocas."
      ]
    },
    {
      "cell_type": "code",
      "metadata": {
        "id": "ZU4-b3w5JvRg",
        "outputId": "8ad0acf8-eb14-4067-fc86-24ca16c6b1e0",
        "colab": {
          "base_uri": "https://localhost:8080/",
          "height": 85
        }
      },
      "source": [
        "num_epochs = 100\n",
        "all_mae_histories = []\n",
        "for i in range(k):\n",
        "    print('Procesamiento de fold #', i)\n",
        "    \n",
        "    # Para cada fold:\n",
        "    # Generamos su conjunto de validación a partir del conjunto de entrenamiento original\n",
        "    val_data = train_data_std[i * num_val_samples: (i + 1) * num_val_samples]\n",
        "    val_targets = train_targets[i * num_val_samples: (i + 1) * num_val_samples]\n",
        "\n",
        "    # Generamos su conjunto de entrenamiento a partir del conjunto de entrenamiento original\n",
        "    partial_train_data = np.concatenate(\n",
        "        [train_data_std[:i * num_val_samples],\n",
        "         train_data_std[(i + 1) * num_val_samples:]],\n",
        "        axis=0)\n",
        "    partial_train_targets = np.concatenate(\n",
        "        [train_targets[:i * num_val_samples],\n",
        "         train_targets[(i + 1) * num_val_samples:]],\n",
        "        axis=0)\n",
        "    #-----------------------------------------------------------------------------------\n",
        "    \n",
        "    # Mandamos llamar el modelo que previamente compilamos\n",
        "    model = build_model()\n",
        "    # Entrenamos el modelo y almacenamos su rendimiento (mae) en el conjunto de validación durante 500 épocas.\n",
        "    history = model.fit(partial_train_data, partial_train_targets,\n",
        "                        validation_data=(val_data, val_targets),\n",
        "                        epochs=num_epochs, batch_size=1, verbose=0)\n",
        "    mae_history = history.history['val_mae']\n",
        "\n",
        "    # Debido a que la evaluación se realizará en k-folds, utilizamos la lista all_mae_histories para\n",
        "    # almacenar el resultado de la evaluación de cada fold durante 500 épocas.\n",
        "    all_mae_histories.append(mae_history)"
      ],
      "execution_count": null,
      "outputs": [
        {
          "output_type": "stream",
          "text": [
            "Procesamiento de fold # 0\n",
            "Procesamiento de fold # 1\n",
            "Procesamiento de fold # 2\n",
            "Procesamiento de fold # 3\n"
          ],
          "name": "stdout"
        }
      ]
    },
    {
      "cell_type": "code",
      "metadata": {
        "id": "nnncCf8aksAB",
        "outputId": "efb50929-701b-48b7-febd-253df0cdb17c",
        "colab": {
          "base_uri": "https://localhost:8080/",
          "height": 1000
        }
      },
      "source": [
        "all_mae_histories[0]"
      ],
      "execution_count": null,
      "outputs": [
        {
          "output_type": "execute_result",
          "data": {
            "text/plain": [
              "[3.9275922775268555,\n",
              " 3.1494991779327393,\n",
              " 2.7756199836730957,\n",
              " 2.5411365032196045,\n",
              " 2.4357638359069824,\n",
              " 2.268613338470459,\n",
              " 2.4968514442443848,\n",
              " 2.265756607055664,\n",
              " 2.0872416496276855,\n",
              " 2.18143630027771,\n",
              " 2.0748438835144043,\n",
              " 2.1843888759613037,\n",
              " 2.133002519607544,\n",
              " 2.0490386486053467,\n",
              " 2.291259527206421,\n",
              " 2.109337329864502,\n",
              " 1.9440827369689941,\n",
              " 2.1615312099456787,\n",
              " 2.0381898880004883,\n",
              " 1.9554399251937866,\n",
              " 2.2416982650756836,\n",
              " 1.9579347372055054,\n",
              " 1.930112361907959,\n",
              " 1.900601863861084,\n",
              " 2.216367483139038,\n",
              " 2.1524405479431152,\n",
              " 2.065479278564453,\n",
              " 1.9637796878814697,\n",
              " 2.06058931350708,\n",
              " 1.945225477218628,\n",
              " 1.928812861442566,\n",
              " 1.9001508951187134,\n",
              " 1.8784488439559937,\n",
              " 1.9968138933181763,\n",
              " 1.7376081943511963,\n",
              " 1.9828754663467407,\n",
              " 2.0774683952331543,\n",
              " 2.0148990154266357,\n",
              " 2.0938503742218018,\n",
              " 1.900873064994812,\n",
              " 1.7721872329711914,\n",
              " 1.8649674654006958,\n",
              " 1.7001807689666748,\n",
              " 1.902674913406372,\n",
              " 2.002094030380249,\n",
              " 1.972611427307129,\n",
              " 2.4361701011657715,\n",
              " 1.9647409915924072,\n",
              " 1.9349496364593506,\n",
              " 1.8387705087661743,\n",
              " 2.0787322521209717,\n",
              " 2.099921703338623,\n",
              " 1.9448771476745605,\n",
              " 1.9323723316192627,\n",
              " 1.903119683265686,\n",
              " 2.3303234577178955,\n",
              " 1.9998129606246948,\n",
              " 2.0187928676605225,\n",
              " 1.9307252168655396,\n",
              " 1.984233021736145,\n",
              " 1.9068615436553955,\n",
              " 1.8620816469192505,\n",
              " 2.1172661781311035,\n",
              " 1.9417638778686523,\n",
              " 1.9013254642486572,\n",
              " 1.886438012123108,\n",
              " 2.1244661808013916,\n",
              " 2.0827574729919434,\n",
              " 1.8188470602035522,\n",
              " 1.9481359720230103,\n",
              " 1.9793529510498047,\n",
              " 1.945920705795288,\n",
              " 2.0354034900665283,\n",
              " 2.0806450843811035,\n",
              " 2.167827606201172,\n",
              " 2.203321695327759,\n",
              " 2.3481740951538086,\n",
              " 2.0410635471343994,\n",
              " 1.8626514673233032,\n",
              " 1.9359854459762573,\n",
              " 2.0019149780273438,\n",
              " 2.0584611892700195,\n",
              " 2.0512702465057373,\n",
              " 2.1742405891418457,\n",
              " 1.9889006614685059,\n",
              " 2.02351713180542,\n",
              " 2.189502716064453,\n",
              " 2.2461037635803223,\n",
              " 2.1081812381744385,\n",
              " 1.9474142789840698,\n",
              " 2.1584362983703613,\n",
              " 2.224019765853882,\n",
              " 1.9824601411819458,\n",
              " 2.1343626976013184,\n",
              " 2.0865283012390137,\n",
              " 2.1716082096099854,\n",
              " 2.002762794494629,\n",
              " 1.9603055715560913,\n",
              " 2.5744469165802,\n",
              " 2.152141571044922]"
            ]
          },
          "metadata": {
            "tags": []
          },
          "execution_count": 54
        }
      ]
    },
    {
      "cell_type": "code",
      "metadata": {
        "id": "l4CMbL3-kwKX",
        "outputId": "6de41a41-89be-4b2c-9679-b9673c8c7d80",
        "colab": {
          "base_uri": "https://localhost:8080/",
          "height": 34
        }
      },
      "source": [
        "len(all_mae_histories[3])"
      ],
      "execution_count": null,
      "outputs": [
        {
          "output_type": "execute_result",
          "data": {
            "text/plain": [
              "100"
            ]
          },
          "metadata": {
            "tags": []
          },
          "execution_count": 50
        }
      ]
    },
    {
      "cell_type": "markdown",
      "metadata": {
        "id": "wyWxMDPKLyhq"
      },
      "source": [
        "Por cada época, calculamos el promedio del mae de cada fold:"
      ]
    },
    {
      "cell_type": "code",
      "metadata": {
        "id": "1799wsU-L2lg"
      },
      "source": [
        "average_mae_history = [\n",
        "    np.mean([x[i] for x in all_mae_histories]) for i in range(num_epochs)]\n",
        "    # i = 0\n",
        "      # Indica que tenemos que extrar el desempeño de cada uno de los cuatros modelos en la primera época, para luego promediar estos cuatro valores\n",
        "      # y así obtener un promedio del rendimiento de los cuatro modelos en la primera época.\n",
        "    # i = 1\n",
        "      # Indica que tenemos que extrar el desempeño de cada uno de los cuatros modelos en la segunda época, para luego promediar estos cuatro valores\n",
        "      # y así obtener un promedio del rendimiento de los cuatro modelos en la primera época.\n",
        "    # i = 2\n",
        "      # Indica que tenemos que extrar el desempeño de cada uno de los cuatros modelos en la tercera época, para luego promediar estos cuatro valores\n",
        "      # y así obtener un promedio del rendimiento de los cuatro modelos en la primera época.\n",
        "    #...\n"
      ],
      "execution_count": null,
      "outputs": []
    },
    {
      "cell_type": "markdown",
      "metadata": {
        "id": "a4Af0RCDNfNq"
      },
      "source": [
        "Grafiquemos el resultado anterior:"
      ]
    },
    {
      "cell_type": "code",
      "metadata": {
        "id": "AjgDYR4rNhlP",
        "outputId": "d4a4a8db-f81a-44d6-84f9-2ca82d1b35b7",
        "colab": {
          "base_uri": "https://localhost:8080/",
          "height": 279
        }
      },
      "source": [
        "import matplotlib.pyplot as plt\n",
        "\n",
        "plt.plot(range(1, len(average_mae_history) + 1), average_mae_history, 'g')\n",
        "plt.xlabel('Epochs')\n",
        "plt.ylabel('Validation MAE')\n",
        "plt.show()"
      ],
      "execution_count": null,
      "outputs": [
        {
          "output_type": "display_data",
          "data": {
            "image/png": "[encoded data removed]",
            "text/plain": [
              "<Figure size 432x288 with 1 Axes>"
            ]
          },
          "metadata": {
            "tags": [],
            "needs_background": "light"
          }
        }
      ]
    },
    {
      "cell_type": "markdown",
      "metadata": {
        "id": "eGIJAsqjSU5x"
      },
      "source": [
        "Con base a las gráficas previas, podemos observar que, aproximadamente a partir de la época 50, el modelo deja de mejorar y comienza a presentarse una disminución en su rendimiento."
      ]
    },
    {
      "cell_type": "markdown",
      "metadata": {
        "id": "9RPxfbOoM4J6"
      },
      "source": [
        "# **Re-entrenamiento y evaluación del modelo final**"
      ]
    },
    {
      "cell_type": "markdown",
      "metadata": {
        "id": "49Rc9awt0gPY"
      },
      "source": [
        "Una vez que se seleccionó el modelo tomando como base su rendimiento en la validación cruzada, una práctica recomendada es volver a entrar la arquitectura con los mismos parámetros con los que se generó el modelo seleccionado y con el conjunto de entrenamieto original."
      ]
    },
    {
      "cell_type": "code",
      "metadata": {
        "id": "n8d-_wWDPfFW",
        "outputId": "dc87a6c8-4c05-4843-c15b-0c55015e5173",
        "colab": {
          "base_uri": "https://localhost:8080/",
          "height": 34
        }
      },
      "source": [
        "# Instanciamos de nueva cuenta el modelo\n",
        "model = build_model()\n",
        "# Entrenamos el modelo en el conjunto de entrenamiento original\n",
        "model.fit(train_data_std, train_targets,\n",
        "          epochs=45, batch_size=1, verbose=0)\n",
        "#Evaluamos el modelo final\n",
        "test_mse_score, test_mae_score = model.evaluate(test_data_std, test_targets)"
      ],
      "execution_count": null,
      "outputs": [
        {
          "output_type": "stream",
          "text": [
            "4/4 [==============================] - 0s 2ms/step - loss: 16.6486 - mae: 2.4315\n"
          ],
          "name": "stdout"
        }
      ]
    },
    {
      "cell_type": "code",
      "metadata": {
        "id": "tpBX2w84PyY4",
        "outputId": "79280b14-ec4c-4877-a496-4641cb0a887b",
        "colab": {
          "base_uri": "https://localhost:8080/",
          "height": 34
        }
      },
      "source": [
        "test_mae_score"
      ],
      "execution_count": null,
      "outputs": [
        {
          "output_type": "execute_result",
          "data": {
            "text/plain": [
              "2.4315226078033447"
            ]
          },
          "metadata": {
            "tags": []
          },
          "execution_count": 59
        }
      ]
    },
    {
      "cell_type": "code",
      "metadata": {
        "id": "GPcvtmYTp6As",
        "outputId": "579093f5-7767-448d-b10e-9f4fc7251610",
        "colab": {
          "base_uri": "https://localhost:8080/",
          "height": 34
        }
      },
      "source": [
        "test_data_std.shape"
      ],
      "execution_count": null,
      "outputs": [
        {
          "output_type": "execute_result",
          "data": {
            "text/plain": [
              "(102, 13)"
            ]
          },
          "metadata": {
            "tags": []
          },
          "execution_count": 61
        }
      ]
    },
    {
      "cell_type": "code",
      "metadata": {
        "id": "em1lN0kIplVC",
        "outputId": "a0911824-464d-45db-d2a8-b488032c8978",
        "colab": {
          "base_uri": "https://localhost:8080/",
          "height": 1000
        }
      },
      "source": [
        "model.predict(test_data_std)"
      ],
      "execution_count": null,
      "outputs": [
        {
          "output_type": "execute_result",
          "data": {
            "text/plain": [
              "array([[ 7.2614136],\n",
              "       [18.808659 ],\n",
              "       [21.267992 ],\n",
              "       [30.76139  ],\n",
              "       [24.01605  ],\n",
              "       [23.75187  ],\n",
              "       [28.569239 ],\n",
              "       [21.393482 ],\n",
              "       [18.567024 ],\n",
              "       [21.619461 ],\n",
              "       [19.789871 ],\n",
              "       [17.503883 ],\n",
              "       [15.170285 ],\n",
              "       [42.992    ],\n",
              "       [19.16216  ],\n",
              "       [19.762444 ],\n",
              "       [24.818434 ],\n",
              "       [18.0696   ],\n",
              "       [19.60361  ],\n",
              "       [24.958141 ],\n",
              "       [10.81471  ],\n",
              "       [12.267764 ],\n",
              "       [20.921814 ],\n",
              "       [17.564222 ],\n",
              "       [18.998215 ],\n",
              "       [22.900455 ],\n",
              "       [28.397148 ],\n",
              "       [28.27703  ],\n",
              "       [11.364972 ],\n",
              "       [19.335814 ],\n",
              "       [20.174587 ],\n",
              "       [13.154277 ],\n",
              "       [32.92233  ],\n",
              "       [23.46398  ],\n",
              "       [18.40663  ],\n",
              "       [ 7.545478 ],\n",
              "       [16.855438 ],\n",
              "       [16.99159  ],\n",
              "       [20.633009 ],\n",
              "       [25.019249 ],\n",
              "       [31.255878 ],\n",
              "       [27.483318 ],\n",
              "       [13.212827 ],\n",
              "       [43.58626  ],\n",
              "       [28.577702 ],\n",
              "       [24.847408 ],\n",
              "       [27.200577 ],\n",
              "       [18.443035 ],\n",
              "       [23.171852 ],\n",
              "       [22.68515  ],\n",
              "       [34.30519  ],\n",
              "       [20.205761 ],\n",
              "       [11.374995 ],\n",
              "       [14.509971 ],\n",
              "       [36.25832  ],\n",
              "       [28.105076 ],\n",
              "       [11.483259 ],\n",
              "       [49.836933 ],\n",
              "       [34.010113 ],\n",
              "       [22.806911 ],\n",
              "       [23.26072  ],\n",
              "       [14.765134 ],\n",
              "       [14.077935 ],\n",
              "       [20.376625 ],\n",
              "       [24.07743  ],\n",
              "       [20.446304 ],\n",
              "       [12.64162  ],\n",
              "       [21.480757 ],\n",
              "       [13.216823 ],\n",
              "       [ 7.047303 ],\n",
              "       [24.150427 ],\n",
              "       [29.893923 ],\n",
              "       [23.846622 ],\n",
              "       [13.12149  ],\n",
              "       [25.748383 ],\n",
              "       [19.424183 ],\n",
              "       [18.642307 ],\n",
              "       [24.350367 ],\n",
              "       [36.548023 ],\n",
              "       [10.306037 ],\n",
              "       [21.354969 ],\n",
              "       [37.442013 ],\n",
              "       [16.36604  ],\n",
              "       [12.556958 ],\n",
              "       [16.98832  ],\n",
              "       [18.424694 ],\n",
              "       [19.646814 ],\n",
              "       [19.710318 ],\n",
              "       [22.438091 ],\n",
              "       [27.69904  ],\n",
              "       [20.117104 ],\n",
              "       [16.678328 ],\n",
              "       [25.952618 ],\n",
              "       [46.663284 ],\n",
              "       [37.290623 ],\n",
              "       [19.825754 ],\n",
              "       [34.697903 ],\n",
              "       [50.061222 ],\n",
              "       [25.257923 ],\n",
              "       [46.93719  ],\n",
              "       [29.649588 ],\n",
              "       [19.575203 ]], dtype=float32)"
            ]
          },
          "metadata": {
            "tags": []
          },
          "execution_count": 62
        }
      ]
    },
    {
      "cell_type": "markdown",
      "metadata": {
        "id": "TQMVSegJdVRx"
      },
      "source": [
        "NOTA: La información presentada en este notebook, fue tomada de https://github.com/fchollet/deep-learning-with-python-notebooks/blob/master/3.7-predicting-house-prices.ipynb, La única variación sutil del presente notebook con respecto a la fuente original, tiene que ver con la descripción de ciertas partes del código."
      ]
    }
  ]
}